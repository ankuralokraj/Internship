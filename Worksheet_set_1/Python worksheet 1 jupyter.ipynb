{
 "cells": [
  {
   "cell_type": "markdown",
   "id": "a0c54f35",
   "metadata": {},
   "source": [
    "Q11). Write a python program to find the factorial of a number."
   ]
  },
  {
   "cell_type": "code",
   "execution_count": 11,
   "id": "3bd4d9d5",
   "metadata": {},
   "outputs": [
    {
     "name": "stdout",
     "output_type": "stream",
     "text": [
      "Enter a number5\n",
      "factorial of 5 in 120 \n"
     ]
    }
   ],
   "source": [
    "x=int(input(\"Enter a number\"))\n",
    "factorial=1\n",
    "\n",
    "if x<0:\n",
    "    print(\"nagative number dont have factorial\")\n",
    "    \n",
    "elif x==0:\n",
    "    print(\"factorial of 0 is 1 \")\n",
    "          \n",
    "else:\n",
    "    for y in range(1 ,x+1):\n",
    "        factorial=factorial*y\n",
    "    print(f\"factorial of {x} in {factorial} \")\n",
    "          "
   ]
  },
  {
   "cell_type": "markdown",
   "id": "b7f20fd4",
   "metadata": {},
   "source": [
    "Q12). Write a python program to find whether a number is prime or composite."
   ]
  },
  {
   "cell_type": "code",
   "execution_count": 21,
   "id": "cf19aa11",
   "metadata": {},
   "outputs": [
    {
     "name": "stdout",
     "output_type": "stream",
     "text": [
      "Enter a number9\n",
      "9 is a prime number\n",
      "9 is a composite number\n"
     ]
    }
   ],
   "source": [
    "x=int(input(\"Enter a number\"))\n",
    "\n",
    "if x<2:\n",
    "    print(f\"{x} is not a Prime number\")\n",
    "    \n",
    "elif x==2:\n",
    "    print(f\"{x} is a Prime number\")\n",
    "          \n",
    "else:\n",
    "    for i in range(2, x):\n",
    "        if x % i == 0:\n",
    "            print(f\"{x} is a composite number\")\n",
    "            break\n",
    "        else:\n",
    "            print(f\"{x} is a prime number\")\n",
    "          "
   ]
  },
  {
   "cell_type": "markdown",
   "id": "70b8d933",
   "metadata": {},
   "source": [
    "Q13). Write a python program to check whether a given string is palindrome or not."
   ]
  },
  {
   "cell_type": "code",
   "execution_count": 26,
   "id": "ec0afd3c",
   "metadata": {},
   "outputs": [
    {
     "name": "stdout",
     "output_type": "stream",
     "text": [
      "Enter a string to check string is palindrome or not bob\n",
      " bob is palindrome \n"
     ]
    }
   ],
   "source": [
    "x=input (\"Enter a string to check string is palindrome or not \")\n",
    "x=x.replace(\" \",\"\").lower()\n",
    "if x== x[::-1]:\n",
    "    print(f\" {x} is Palindrome \")\n",
    "    \n",
    "else:\n",
    "    print(f\" {x} is not Palindrome \")"
   ]
  },
  {
   "cell_type": "markdown",
   "id": "51c80ea6",
   "metadata": {},
   "source": [
    "Q14). Write a Python program to get the third side of right-angled triangle from two given sides."
   ]
  },
  {
   "cell_type": "code",
   "execution_count": 28,
   "id": "4c048b0c",
   "metadata": {},
   "outputs": [
    {
     "name": "stdout",
     "output_type": "stream",
     "text": [
      "Enter 1st side of triangle2\n",
      "Enter 2nd side of triangle3\n",
      "3rd side of triangle = 3.605551275463989\n"
     ]
    }
   ],
   "source": [
    "import math\n",
    "x=int(input(\"Enter 1st side of triangle\"))\n",
    "y=int(input(\"Enter 2nd side of triangle\"))\n",
    "\n",
    "z=math.sqrt((x*x)+(y*y))\n",
    "print (f\"3rd side of triangle = {z}\")"
   ]
  },
  {
   "cell_type": "markdown",
   "id": "5e19fe18",
   "metadata": {},
   "source": [
    "Q15). Write a python program to print the frequency of each of the characters present in a given string."
   ]
  },
  {
   "cell_type": "code",
   "execution_count": 30,
   "id": "e3546f2d",
   "metadata": {},
   "outputs": [
    {
     "name": "stdout",
     "output_type": "stream",
     "text": [
      "enter a stringHello, World!\n",
      "h : 1\n",
      "e : 1\n",
      "l : 3\n",
      "o : 2\n",
      ", : 1\n",
      "w : 1\n",
      "r : 1\n",
      "d : 1\n",
      "! : 1\n"
     ]
    }
   ],
   "source": [
    "x=input(\"enter a string\")\n",
    "x = x.replace(' ', '').lower()\n",
    "freq = {}\n",
    "for char in x:\n",
    "    if char in freq:\n",
    "        freq[char] += 1\n",
    "    else:\n",
    "        freq[char] = 1\n",
    "for key, value in freq.items():\n",
    "    print(key, ':', value)\n",
    "        \n",
    "\n"
   ]
  },
  {
   "cell_type": "code",
   "execution_count": null,
   "id": "b18f7fe0",
   "metadata": {},
   "outputs": [],
   "source": []
  }
 ],
 "metadata": {
  "kernelspec": {
   "display_name": "Python 3 (ipykernel)",
   "language": "python",
   "name": "python3"
  },
  "language_info": {
   "codemirror_mode": {
    "name": "ipython",
    "version": 3
   },
   "file_extension": ".py",
   "mimetype": "text/x-python",
   "name": "python",
   "nbconvert_exporter": "python",
   "pygments_lexer": "ipython3",
   "version": "3.9.12"
  }
 },
 "nbformat": 4,
 "nbformat_minor": 5
}
